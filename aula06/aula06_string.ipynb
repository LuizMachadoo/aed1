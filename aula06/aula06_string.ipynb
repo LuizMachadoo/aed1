{
 "cells": [
  {
   "cell_type": "code",
   "execution_count": 3,
   "id": "29b4dba6",
   "metadata": {},
   "outputs": [],
   "source": [
    "nome = \"Machado\""
   ]
  },
  {
   "cell_type": "code",
   "execution_count": 4,
   "id": "98c398d4",
   "metadata": {},
   "outputs": [
    {
     "name": "stdout",
     "output_type": "stream",
     "text": [
      "Meu sobrenome é:  Machado\n"
     ]
    }
   ],
   "source": [
    "print(\"Meu sobrenome é: \", nome)"
   ]
  },
  {
   "cell_type": "code",
   "execution_count": 5,
   "id": "4349a185",
   "metadata": {},
   "outputs": [
    {
     "name": "stdout",
     "output_type": "stream",
     "text": [
      "M\n"
     ]
    }
   ],
   "source": [
    "print(nome[0])"
   ]
  },
  {
   "cell_type": "code",
   "execution_count": 6,
   "id": "9fc12112",
   "metadata": {},
   "outputs": [
    {
     "name": "stdout",
     "output_type": "stream",
     "text": [
      "<class 'str'>\n"
     ]
    }
   ],
   "source": [
    "print(type(nome))"
   ]
  },
  {
   "cell_type": "code",
   "execution_count": null,
   "id": "bc181764",
   "metadata": {},
   "outputs": [],
   "source": []
  }
 ],
 "metadata": {
  "kernelspec": {
   "display_name": "Python 3 (ipykernel)",
   "language": "python",
   "name": "python3"
  },
  "language_info": {
   "codemirror_mode": {
    "name": "ipython",
    "version": 3
   },
   "file_extension": ".py",
   "mimetype": "text/x-python",
   "name": "python",
   "nbconvert_exporter": "python",
   "pygments_lexer": "ipython3",
   "version": "3.11.5"
  }
 },
 "nbformat": 4,
 "nbformat_minor": 5
}
