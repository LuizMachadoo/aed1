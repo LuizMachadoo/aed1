{
 "cells": [
  {
   "cell_type": "code",
   "execution_count": null,
   "id": "78e8ccb2",
   "metadata": {},
   "outputs": [],
   "source": [
    "print(\"Bem vindo ao Analisador de números!\")\n",
    "print(\"___________________________________\")\n",
    "\n",
    "num = int(input(\"Digite um número inteiro: \"))\n",
    "\n",
    "if ((num % 5) == 0) and ((num % 3) ==0) :\n",
    "    print(\"O número digitado é divisível por 5 e por 3!\")\n",
    "else: print(\"O número digitado não é divisível por 5 e 3!\")"
   ]
  },
  {
   "cell_type": "code",
   "execution_count": null,
   "id": "cc3a84f0",
   "metadata": {},
   "outputs": [],
   "source": [
    "print(\"Bem vindo a calculadora de descontos!\")\n",
    "print(\"_____________________________________\")\n",
    "\n",
    "valor = float(input(\"Digite o valor da sua compra: \"))\n",
    "if valor <= 1000:\n",
    "    valorfinal = valor * 0.9\n",
    "    print (\"O valor de sua compra era R$\", valor, \", aplicando o desconto final de 10% o valor de sua compra é de R$\", valorfinal)\n",
    "elif valor <= 5000:\n",
    "    valorfinal = valor * 0.8\n",
    "    print (\"O valor de sua compra era R$\", valor, \", aplicando o desconto final de 20% o valor de sua compra é de R$\", valorfinal)\n",
    "elif valor > 5000: \n",
    "    valorfinal = valor * 0.7\n",
    "    print (\"O valor de sua compra era R$\", valor, \", aplicando o desconto final de 30% o valor de sua compra é de R$\", valorfinal)"
   ]
  },
  {
   "cell_type": "code",
   "execution_count": null,
   "id": "246f873b",
   "metadata": {},
   "outputs": [],
   "source": [
    "print(\"Bem vindo ao analisador de tintas e paredes!\")\n",
    "print(\"____________________________________________\")\n",
    "\n",
    "larg = float(input(\"Digite a largura de sua parede: \"))\n",
    "comp = float(input(\"Digite a comprimento de sua parede: \"))\n",
    "paredeA = (larg * 2.80) * 2\n",
    "paredeB = (comp * 2.80) * 2\n",
    "porta = 0.80 * 2.10\n",
    "totaldeparedes = paredeA + paredeB\n",
    "totaldelitros = (totaldeparedes - porta) / 3\n",
    "if (totaldelitros % 1) != 0:\n",
    "   int (totaldelitros + 1)\n",
    "   print(\"O total de latas que sera utilizado para pintar a parede é:\", int(totaldelitros),)\n",
    "else:print(\"O total de latas que sera utilizado para pintar a parede é:\", int(totaldelitros),)"
   ]
  },
  {
   "cell_type": "code",
   "execution_count": null,
   "id": "d79650d3",
   "metadata": {},
   "outputs": [],
   "source": []
  }
 ],
 "metadata": {
  "kernelspec": {
   "display_name": "Python 3 (ipykernel)",
   "language": "python",
   "name": "python3"
  },
  "language_info": {
   "codemirror_mode": {
    "name": "ipython",
    "version": 3
   },
   "file_extension": ".py",
   "mimetype": "text/x-python",
   "name": "python",
   "nbconvert_exporter": "python",
   "pygments_lexer": "ipython3",
   "version": "3.11.5"
  }
 },
 "nbformat": 4,
 "nbformat_minor": 5
}
